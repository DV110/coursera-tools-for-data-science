{
    "metadata": {
        "kernelspec": {
            "name": "python3",
            "display_name": "Python 3 (ipykernel)",
            "language": "python"
        },
        "language_info": {
            "name": "python",
            "version": "3.9.12",
            "mimetype": "text/x-python",
            "codemirror_mode": {
                "name": "ipython",
                "version": 3
            },
            "pygments_lexer": "ipython3",
            "nbconvert_exporter": "python",
            "file_extension": ".py"
        }
    },
    "nbformat_minor": 2,
    "nbformat": 4,
    "cells": [
        {
            "cell_type": "markdown",
            "source": [
                "# <span style=\"color: rgb(33, 37, 41); font-family: -apple-system, BlinkMacSystemFont, &quot;Segoe UI&quot;, Roboto, &quot;Helvetica Neue&quot;, Arial, &quot;Noto Sans&quot;, sans-serif, &quot;Apple Color Emoji&quot;, &quot;Segoe UI Emoji&quot;, &quot;Segoe UI Symbol&quot;, &quot;Noto Color Emoji&quot;; font-size: 16px; background-color: rgb(255, 255, 255);\">My Jupyter Notebook trên IBM Watson Studio</span>"
            ],
            "metadata": {
                "azdata_cell_guid": "a8887517-3ad2-461f-8b60-966a24ae46f3"
            },
            "attachments": {}
        },
        {
            "cell_type": "markdown",
            "source": [
                "**Duong Vu**\n",
                "\n",
                "Data analyst"
            ],
            "metadata": {
                "azdata_cell_guid": "735331bd-5f7f-4e40-8da4-531bce5f4fc1"
            },
            "attachments": {}
        },
        {
            "cell_type": "markdown",
            "source": [
                "_I am interesting data science because it can help me earn money_"
            ],
            "metadata": {
                "azdata_cell_guid": "60876e46-978b-4adf-81dd-d108ac8e1173"
            },
            "attachments": {}
        },
        {
            "cell_type": "markdown",
            "source": [
                "### **The Following code tests the Gauss formula**"
            ],
            "metadata": {
                "azdata_cell_guid": "3cad9226-fd86-4cc6-bffe-bea4579ba52e"
            },
            "attachments": {}
        },
        {
            "cell_type": "code",
            "source": [
                "def gauss(n):\r\n",
                "    return (n*(n+1))/2\r\n",
                "gauss(100) ==sum(range(101))"
            ],
            "metadata": {
                "azdata_cell_guid": "7ae15322-b2ce-4779-802e-fe9238e95de6",
                "language": "python"
            },
            "outputs": [
                {
                    "data": {
                        "text/plain": "True"
                    },
                    "metadata": {},
                    "execution_count": 1,
                    "output_type": "execute_result"
                }
            ],
            "execution_count": 1
        },
        {
            "cell_type": "markdown",
            "source": [
                "- one\n",
                "- two\n",
                "- three\n",
                "- one\n",
                "- two\n",
                "- three"
            ],
            "metadata": {
                "language": "python",
                "azdata_cell_guid": "7c58de0d-0b96-4f5a-afac-ff6548a51b8d"
            },
            "attachments": {}
        }
    ]
}